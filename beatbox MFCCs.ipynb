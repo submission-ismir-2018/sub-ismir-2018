{
 "cells": [
  {
   "cell_type": "markdown",
   "metadata": {},
   "source": [
    "This notebook shows how to load the 2016HBXX beatbox dataset. It is comprised of 341 audio recordings. The beatboxer was asked to produce a variety of kick, hi-hat, snare, rimshot and cymbal effects. "
   ]
  },
  {
   "cell_type": "code",
   "execution_count": 9,
   "metadata": {},
   "outputs": [
    {
     "name": "stdout",
     "output_type": "stream",
     "text": [
      "The autoreload extension is already loaded. To reload it, use:\n",
      "  %reload_ext autoreload\n"
     ]
    }
   ],
   "source": [
    "import numpy as np\n",
    "import pandas as pd\n",
    "\n",
    "import matplotlib.pyplot as plt\n",
    "# %matplotlib notebook\n",
    "\n",
    "%load_ext autoreload\n",
    "%autoreload 2"
   ]
  },
  {
   "cell_type": "code",
   "execution_count": 3,
   "metadata": {},
   "outputs": [],
   "source": [
    "# load dataset: 13 *averaged* MFCC without pre-proc\n",
    "df = pd.read_csv('2016HBXX_effets_mfcc_nodeltas_XY_nozcaPerFile_nozcaX.csv', )"
   ]
  },
  {
   "cell_type": "code",
   "execution_count": 6,
   "metadata": {},
   "outputs": [
    {
     "data": {
      "text/html": [
       "<div>\n",
       "<style>\n",
       "    .dataframe thead tr:only-child th {\n",
       "        text-align: right;\n",
       "    }\n",
       "\n",
       "    .dataframe thead th {\n",
       "        text-align: left;\n",
       "    }\n",
       "\n",
       "    .dataframe tbody tr th {\n",
       "        vertical-align: top;\n",
       "    }\n",
       "</style>\n",
       "<table border=\"1\" class=\"dataframe\">\n",
       "  <thead>\n",
       "    <tr style=\"text-align: right;\">\n",
       "      <th></th>\n",
       "      <th>effect</th>\n",
       "      <th>mfcc0</th>\n",
       "      <th>mfcc1</th>\n",
       "      <th>mfcc2</th>\n",
       "      <th>mfcc3</th>\n",
       "      <th>mfcc4</th>\n",
       "      <th>mfcc5</th>\n",
       "      <th>mfcc6</th>\n",
       "      <th>mfcc7</th>\n",
       "      <th>mfcc8</th>\n",
       "      <th>mfcc9</th>\n",
       "      <th>mfcc10</th>\n",
       "      <th>mfcc11</th>\n",
       "      <th>mfcc12</th>\n",
       "    </tr>\n",
       "  </thead>\n",
       "  <tbody>\n",
       "    <tr>\n",
       "      <th>0</th>\n",
       "      <td>cymbale_expiree</td>\n",
       "      <td>12.9386</td>\n",
       "      <td>-1.311020</td>\n",
       "      <td>-0.538907</td>\n",
       "      <td>-0.378916</td>\n",
       "      <td>-0.471464</td>\n",
       "      <td>-0.227610</td>\n",
       "      <td>-0.486994</td>\n",
       "      <td>-0.462501</td>\n",
       "      <td>-0.505221</td>\n",
       "      <td>-0.158843</td>\n",
       "      <td>-0.061992</td>\n",
       "      <td>-0.092957</td>\n",
       "      <td>-0.029067</td>\n",
       "    </tr>\n",
       "    <tr>\n",
       "      <th>1</th>\n",
       "      <td>cymbale_expiree</td>\n",
       "      <td>13.5172</td>\n",
       "      <td>-1.054040</td>\n",
       "      <td>-0.746834</td>\n",
       "      <td>-0.415100</td>\n",
       "      <td>-0.451971</td>\n",
       "      <td>-0.247730</td>\n",
       "      <td>-0.484020</td>\n",
       "      <td>-0.480398</td>\n",
       "      <td>-0.525539</td>\n",
       "      <td>-0.193924</td>\n",
       "      <td>-0.076974</td>\n",
       "      <td>-0.062771</td>\n",
       "      <td>-0.026052</td>\n",
       "    </tr>\n",
       "    <tr>\n",
       "      <th>2</th>\n",
       "      <td>cymbale_expiree</td>\n",
       "      <td>12.6682</td>\n",
       "      <td>-1.128110</td>\n",
       "      <td>-0.612262</td>\n",
       "      <td>-0.467454</td>\n",
       "      <td>-0.399801</td>\n",
       "      <td>-0.141812</td>\n",
       "      <td>-0.470429</td>\n",
       "      <td>-0.508617</td>\n",
       "      <td>-0.506058</td>\n",
       "      <td>-0.183248</td>\n",
       "      <td>-0.047863</td>\n",
       "      <td>-0.049629</td>\n",
       "      <td>-0.028216</td>\n",
       "    </tr>\n",
       "    <tr>\n",
       "      <th>3</th>\n",
       "      <td>cymbale_expiree</td>\n",
       "      <td>12.7852</td>\n",
       "      <td>-0.989419</td>\n",
       "      <td>-0.711028</td>\n",
       "      <td>-0.514865</td>\n",
       "      <td>-0.389289</td>\n",
       "      <td>-0.168611</td>\n",
       "      <td>-0.447980</td>\n",
       "      <td>-0.537689</td>\n",
       "      <td>-0.545465</td>\n",
       "      <td>-0.216320</td>\n",
       "      <td>-0.060749</td>\n",
       "      <td>-0.046150</td>\n",
       "      <td>-0.026503</td>\n",
       "    </tr>\n",
       "    <tr>\n",
       "      <th>4</th>\n",
       "      <td>cymbale_expiree</td>\n",
       "      <td>12.7532</td>\n",
       "      <td>-1.302820</td>\n",
       "      <td>-0.624149</td>\n",
       "      <td>-0.468124</td>\n",
       "      <td>-0.329432</td>\n",
       "      <td>-0.243137</td>\n",
       "      <td>-0.528055</td>\n",
       "      <td>-0.416591</td>\n",
       "      <td>-0.465313</td>\n",
       "      <td>-0.164294</td>\n",
       "      <td>-0.050213</td>\n",
       "      <td>-0.053351</td>\n",
       "      <td>-0.038092</td>\n",
       "    </tr>\n",
       "  </tbody>\n",
       "</table>\n",
       "</div>"
      ],
      "text/plain": [
       "            effect    mfcc0     mfcc1     mfcc2     mfcc3     mfcc4     mfcc5  \\\n",
       "0  cymbale_expiree  12.9386 -1.311020 -0.538907 -0.378916 -0.471464 -0.227610   \n",
       "1  cymbale_expiree  13.5172 -1.054040 -0.746834 -0.415100 -0.451971 -0.247730   \n",
       "2  cymbale_expiree  12.6682 -1.128110 -0.612262 -0.467454 -0.399801 -0.141812   \n",
       "3  cymbale_expiree  12.7852 -0.989419 -0.711028 -0.514865 -0.389289 -0.168611   \n",
       "4  cymbale_expiree  12.7532 -1.302820 -0.624149 -0.468124 -0.329432 -0.243137   \n",
       "\n",
       "      mfcc6     mfcc7     mfcc8     mfcc9    mfcc10    mfcc11    mfcc12  \n",
       "0 -0.486994 -0.462501 -0.505221 -0.158843 -0.061992 -0.092957 -0.029067  \n",
       "1 -0.484020 -0.480398 -0.525539 -0.193924 -0.076974 -0.062771 -0.026052  \n",
       "2 -0.470429 -0.508617 -0.506058 -0.183248 -0.047863 -0.049629 -0.028216  \n",
       "3 -0.447980 -0.537689 -0.545465 -0.216320 -0.060749 -0.046150 -0.026503  \n",
       "4 -0.528055 -0.416591 -0.465313 -0.164294 -0.050213 -0.053351 -0.038092  "
      ]
     },
     "execution_count": 6,
     "metadata": {},
     "output_type": "execute_result"
    }
   ],
   "source": [
    "# print header\n",
    "df.head()"
   ]
  },
  {
   "cell_type": "code",
   "execution_count": 7,
   "metadata": {},
   "outputs": [
    {
     "data": {
      "text/plain": [
       "kick_power             42\n",
       "rimshot_power          38\n",
       "kick_humming           37\n",
       "hihat_humming          37\n",
       "snare_humming          30\n",
       "cymbale_expiree        28\n",
       "rimshot_humming        25\n",
       "hihat_power ouvert     24\n",
       "snare_power            22\n",
       "snare_power inverse    20\n",
       "hihat_power ferme      20\n",
       "cymbale_inspiree       18\n",
       "Name: effect, dtype: int64"
      ]
     },
     "execution_count": 7,
     "metadata": {},
     "output_type": "execute_result"
    }
   ],
   "source": [
    "# print counts\n",
    "df.effect.value_counts()"
   ]
  },
  {
   "cell_type": "code",
   "execution_count": 10,
   "metadata": {},
   "outputs": [
    {
     "data": {
      "image/png": "[encoded data removed]",
      "text/plain": [
       "<matplotlib.figure.Figure at 0x7f85d9ff82e8>"
      ]
     },
     "metadata": {},
     "output_type": "display_data"
    }
   ],
   "source": [
    "# feature histograms\n",
    "df.ix[:, 1:].hist(color='k', alpha=0.5, bins=50, figsize=(8, 10))\n",
    "plt.show()"
   ]
  },
  {
   "cell_type": "code",
   "execution_count": 11,
   "metadata": {},
   "outputs": [
    {
     "name": "stdout",
     "output_type": "stream",
     "text": [
      "['cymbale_expiree' 'cymbale_inspiree' 'hihat_humming' 'hihat_power ferme'\n",
      " 'hihat_power ouvert' 'kick_humming' 'kick_power' 'rimshot_humming'\n",
      " 'rimshot_power' 'snare_humming' 'snare_power' 'snare_power inverse']\n",
      "(341, 12) (341,)\n"
     ]
    }
   ],
   "source": [
    "# numpy arrays and dictionaries\n",
    "removeC0=True\n",
    "\n",
    "X = df.ix[:, 1:].values\n",
    "if removeC0:\n",
    "    X = X[:, 1:]\n",
    "    \n",
    "Y_str = df.ix[:, 0].values\n",
    "\n",
    "set_effets = np.unique(Y_str)\n",
    "print(set_effets)\n",
    "\n",
    "effet2int = {}\n",
    "int2effet = {}\n",
    "for k, el in enumerate(set_effets):\n",
    "    effet2int[el] = k\n",
    "    int2effet[k] = el\n",
    "\n",
    "Y = []\n",
    "for _, y in enumerate(Y_str):\n",
    "    Y.append(effet2int[y])\n",
    "Y = np.asarray(Y, dtype=np.int32)\n",
    "\n",
    "# print(Y)\n",
    "print (X.shape, Y.shape)"
   ]
  },
  {
   "cell_type": "code",
   "execution_count": null,
   "metadata": {},
   "outputs": [],
   "source": []
  }
 ],
 "metadata": {
  "kernelspec": {
   "display_name": "Python 3",
   "language": "python",
   "name": "python3"
  },
  "language_info": {
   "codemirror_mode": {
    "name": "ipython",
    "version": 3
   },
   "file_extension": ".py",
   "mimetype": "text/x-python",
   "name": "python",
   "nbconvert_exporter": "python",
   "pygments_lexer": "ipython3",
   "version": "3.5.3"
  }
 },
 "nbformat": 4,
 "nbformat_minor": 2
}
